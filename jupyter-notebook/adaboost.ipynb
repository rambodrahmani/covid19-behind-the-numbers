{
 "cells": [
  {
   "cell_type": "markdown",
   "id": "f5ca9d8a-b144-47e1-9499-fdbfab01624f",
   "metadata": {},
   "source": [
    "# **AdaBoost**"
   ]
  },
  {
   "cell_type": "markdown",
   "id": "56698564-bba5-4e56-a11b-8c0093c62840",
   "metadata": {
    "tags": []
   },
   "source": [
    "## **Load Dataset from scratch**"
   ]
  },
  {
   "cell_type": "markdown",
   "id": "e9f530fc-b40e-4470-bc73-6568465bbd10",
   "metadata": {},
   "source": [
    "### Dataset balancing and discretization should be performed only taking into account the train splits in the K-fold cross validation process without analysing the information found in the test splits."
   ]
  },
  {
   "cell_type": "code",
   "execution_count": null,
   "id": "40cca6e0-55d5-4234-abc8-2c381aff1e29",
   "metadata": {},
   "outputs": [],
   "source": [
    "# load the preprocessed dataset\n",
    "data = pd.read_csv(\"./datasets/preprocessed.csv\", dtype={'gender': 'category', 'patient_type': 'category', 'pneumonia': 'category', 'age': 'int64', 'pregnancy': 'category', 'diabetes': 'category', 'copd': 'category',\n",
    "             'asthma': 'category', 'immunosuppression': 'category', 'hypertension': 'category', 'other_diseases': 'category', 'cardiovascular_disease': 'category',\n",
    "             'obesity': 'category', 'chronic_kidney_disease': 'category', 'smoking': 'category'})\n",
    "\n",
    "# print dataset\n",
    "data"
   ]
  },
  {
   "cell_type": "code",
   "execution_count": null,
   "id": "f418b173-dbc3-4963-a61f-274fec97dc60",
   "metadata": {},
   "outputs": [],
   "source": [
    "# print dataset info\n",
    "data.info(verbose = True)"
   ]
  },
  {
   "cell_type": "code",
   "execution_count": null,
   "id": "9c247f35-20fa-4f7f-8c08-59736a90fabd",
   "metadata": {},
   "outputs": [],
   "source": [
    "# use numerical encoding for categorical attributes\n",
    "data['gender'] = data['gender'].cat.codes\n",
    "data['pneumonia'] = data['pneumonia'].cat.codes\n",
    "data['pregnancy'] = data['pregnancy'].cat.codes\n",
    "data['diabetes'] = data['diabetes'].cat.codes\n",
    "data['copd'] = data['copd'].cat.codes\n",
    "data['asthma'] = data['asthma'].cat.codes\n",
    "data['immunosuppression'] = data['immunosuppression'].cat.codes\n",
    "data['hypertension'] = data['hypertension'].cat.codes\n",
    "data['other_diseases'] = data['other_diseases'].cat.codes\n",
    "data['cardiovascular_disease'] = data['cardiovascular_disease'].cat.codes\n",
    "data['obesity'] = data['obesity'].cat.codes\n",
    "data['chronic_kidney_disease'] = data['chronic_kidney_disease'].cat.codes\n",
    "data['smoking'] = data['smoking'].cat.codes\n",
    "data['patient_type'] = data['patient_type'].map({'HOSPITALIZED': 1, 'NOT-HOSPITALIZED': 0})\n",
    "data['patient_type'] = data['patient_type'].astype('int8')\n",
    "\n",
    "# print dataset\n",
    "data"
   ]
  },
  {
   "cell_type": "code",
   "execution_count": null,
   "id": "4eedbcc5-92df-4555-9342-18c05f745f74",
   "metadata": {},
   "outputs": [],
   "source": [
    "# print dataset info\n",
    "data.info(verbose = True)"
   ]
  },
  {
   "cell_type": "code",
   "execution_count": null,
   "id": "2ed712fb-c47f-4949-9406-9a5b9d43ab6a",
   "metadata": {},
   "outputs": [],
   "source": [
    "# separate class label from other features\n",
    "labels = np.array(data['patient_type'])\n",
    "data = data.drop('patient_type', axis = 1)"
   ]
  },
  {
   "cell_type": "code",
   "execution_count": null,
   "id": "4b2ab153-329b-4089-ae32-2668876b30a3",
   "metadata": {},
   "outputs": [],
   "source": [
    "# k-fold cross validation folds\n",
    "k = 12\n",
    "\n",
    "# number of attributes to be selected\n",
    "attributes_selection_threshold = 9"
   ]
  },
  {
   "cell_type": "markdown",
   "id": "2965a95b-aa48-413d-b45d-3eb0b361e3f3",
   "metadata": {},
   "source": [
    "## AdaBoost with 100 Categorical Naive Bayes Classifiers"
   ]
  },
  {
   "cell_type": "code",
   "execution_count": null,
   "id": "f544278e-b224-4ef3-9c8d-3d0d15db811e",
   "metadata": {},
   "outputs": [],
   "source": [
    "# store accuracy, f1, precision and recall\n",
    "adaboost_accuracies_train = []\n",
    "adaboost_accuracies_test = []\n",
    "adaboost_f1_train = []\n",
    "adaboost_f1_test = []\n",
    "adaboost_precision_train = []\n",
    "adaboost_precision_test = []\n",
    "adaboost_recall_train = []\n",
    "adaboost_recall_test = []\n",
    "\n",
    "# store ROC curve parameters\n",
    "adaboost_fpr = 0\n",
    "adaboost_tpr = 0\n",
    "adaboost_thresh = 0\n",
    "adaboost_auc = 0\n",
    "\n",
    "# store confusion matrix scores\n",
    "adaboost_conf_matrix_list = []\n",
    "\n",
    "# k-fold cross validation\n",
    "skf = StratifiedKFold(n_splits=k, random_state=None, shuffle=True)\n",
    "for train_index, test_index in skf.split(data, labels):\n",
    "    display(Markdown(\"# **FOLD \" + str(len(adaboost_conf_matrix_list)+1) + \"**\"))\n",
    "\n",
    "    # split data in train and test set\n",
    "    X_train, X_test = data.values[train_index], data.values[test_index]\n",
    "    y_train, y_test = labels[train_index], labels[test_index]\n",
    "\n",
    "    # random undersampling for the majority class on the training set\n",
    "    initial_counter = Counter(y_train)\n",
    "    undersample = RandomUnderSampler(sampling_strategy='majority')\n",
    "    X_train, y_train = undersample.fit_resample(X_train, y_train)\n",
    "    final_counter = Counter(y_train)\n",
    "    majority_records_count = [initial_counter[0], final_counter[0]]\n",
    "    minority_records_count = [initial_counter[1], final_counter[1]]\n",
    "    label_initial = (majority_records_count[0], majority_records_count[1])\n",
    "    label_final = (minority_records_count[0], minority_records_count[1])\n",
    "    ind = np.arange(len(label_initial))\n",
    "    width = 0.25\n",
    "    fig, ax = plt.subplots(figsize=(7, 5), dpi=200, facecolor='w', edgecolor='k')\n",
    "    rects_initial = ax.bar(ind - width/2, label_initial, width, label='Majority Class')\n",
    "    rects_final = ax.bar(ind + width/2, label_final, width, label='Minority Class')\n",
    "    ax.set_xticks(ind)\n",
    "    ax.set_xticklabels(('Initial Class Distribution', 'Class Distribution after Undersampling'))\n",
    "    ax.legend(loc=0, prop={'size': 10})\n",
    "    autolabel(rects_initial, \"center\")\n",
    "    autolabel(rects_final, \"center\")\n",
    "    fig.suptitle('Train Set Class Balancing', fontsize=15, y=0.98)\n",
    "    plt.xlabel('Class Distributions Before and After Undersampling', fontsize=12, labelpad=12)\n",
    "    plt.ylabel('Count', fontsize=12, labelpad=12)\n",
    "    plt.savefig('plots/adaboost/balancing-k' + str(len(adaboost_conf_matrix_list)+1) + '.png', dpi=200, bbox_inches='tight')\n",
    "    plt.show()\n",
    "    initial_counter = Counter(y_test)\n",
    "    final_counter = Counter(y_test)\n",
    "    majority_records_count = [initial_counter[0], final_counter[0]]\n",
    "    minority_records_count = [initial_counter[1], final_counter[1]]\n",
    "    label_initial = (majority_records_count[0], majority_records_count[1])\n",
    "    label_final = (minority_records_count[0], minority_records_count[1])\n",
    "    ind = np.arange(len(label_initial))\n",
    "    width = 0.25\n",
    "    fig, ax = plt.subplots(figsize=(7, 5), dpi=200, facecolor='w', edgecolor='k')\n",
    "    rects_initial = ax.bar(ind - width/2, label_initial, width, label='Majority Class')\n",
    "    rects_final = ax.bar(ind + width/2, label_final, width, label='Minority Class')\n",
    "    ax.set_xticks(ind)\n",
    "    ax.set_xticklabels(('Initial Class Distribution', 'Class Distribution after Undersampling'))\n",
    "    ax.legend(loc=0, prop={'size': 10})\n",
    "    autolabel(rects_initial, \"center\")\n",
    "    autolabel(rects_final, \"center\")\n",
    "    fig.suptitle('Test Set Class Balancing', fontsize=15, y=0.98)\n",
    "    plt.xlabel('Class Distributions Before and After Undersampling', fontsize=12, labelpad=12)\n",
    "    plt.ylabel('Count', fontsize=12, labelpad=12)\n",
    "    plt.show()\n",
    "\n",
    "    # attribute selection using mutual information on train set\n",
    "    high_score_features = []\n",
    "    high_score_features_idx = []\n",
    "    feature_scores = mutual_info_classif(X_train, y_train, discrete_features=True, random_state=None)\n",
    "    for score, f_name in sorted(zip(feature_scores, data.columns), reverse=True)[:attributes_selection_threshold]:\n",
    "        high_score_features.append(f_name)\n",
    "        high_score_features_idx.append(data.columns.get_loc(f_name))\n",
    "    fig, ax = plt.subplots(figsize=(10, 5), dpi=200, facecolor='w', edgecolor='k')\n",
    "    ax = fig.add_axes([0, 0, 1, 1])\n",
    "    for score, f_name in sorted(zip(feature_scores, data.columns), reverse=True)[:len(feature_scores)]:\n",
    "        p = ax.bar(f_name, round(score, 3), color = 'g')\n",
    "        ax.bar_label(p, label_type='edge', color='black')\n",
    "    for tick in ax.get_xticklabels():\n",
    "        tick.set_rotation(90)\n",
    "    fig.suptitle('Attributes Mutual Information Score', fontsize=15, y=1.05)\n",
    "    plt.xlabel('Attributes', fontsize=12, labelpad=12)\n",
    "    plt.ylabel('Score', fontsize=12, labelpad=12)\n",
    "    plt.savefig('plots/adaboost/features-k' + str(len(adaboost_conf_matrix_list)+1) + '.png', dpi=200, bbox_inches='tight')\n",
    "    plt.show()\n",
    "    X_train = X_train[:, high_score_features_idx]\n",
    "    X_test = X_test[:, high_score_features_idx]\n",
    "\n",
    "    # train model\n",
    "    adaboost = AdaBoostClassifier(n_estimators=100, base_estimator=CategoricalNB(), random_state=None)\n",
    "    adaboost = adaboost.fit(X_train, y_train)\n",
    "\n",
    "    # test model on train and test set\n",
    "    adaboost_pred_train = adaboost.predict(X_train)\n",
    "    adaboost_pred_test = adaboost.predict(X_test)\n",
    "    adaboost_probs = adaboost.predict_proba(X_test)[:, 1]\n",
    "\n",
    "    # collect statistics\n",
    "    adaboost_accuracies_train.append(metrics.accuracy_score(y_train, adaboost_pred_train))\n",
    "    adaboost_accuracies_test.append(metrics.accuracy_score(y_test, adaboost_pred_test))\n",
    "    adaboost_f1_train.append(metrics.f1_score(y_train, adaboost_pred_train, pos_label=1))\n",
    "    adaboost_f1_test.append(metrics.f1_score(y_test, adaboost_pred_test, pos_label=1))\n",
    "    adaboost_precision_train.append(metrics.precision_score(y_train, adaboost_pred_train, pos_label=1))\n",
    "    adaboost_precision_test.append(metrics.precision_score(y_test, adaboost_pred_test, pos_label=1))\n",
    "    adaboost_recall_train.append(metrics.recall_score(y_train, adaboost_pred_train, pos_label=1))\n",
    "    adaboost_recall_test.append(metrics.recall_score(y_test, adaboost_pred_test, pos_label=1))\n",
    "    adaboost_fpr_new, adaboost_tpr_new, adaboost_thresh_new = metrics.roc_curve(y_test, adaboost_pred_test, pos_label=1)\n",
    "    adaboost_fpr += adaboost_fpr_new\n",
    "    adaboost_tpr += adaboost_tpr_new\n",
    "    adaboost_thresh += adaboost_thresh_new\n",
    "    adaboost_auc_new = metrics.roc_auc_score(y_test, adaboost_pred_test)\n",
    "    adaboost_auc += adaboost_auc_new\n",
    "\n",
    "    # confusion matrix score\n",
    "    adaboost_conf_matrix = confusion_matrix(y_test, adaboost.predict(X_test))\n",
    "    adaboost_conf_matrix_list.append(adaboost_conf_matrix)\n",
    "\n",
    "    # print model report\n",
    "    print(classification_report(y_train, adaboost_pred_train, labels=[0,1]))\n",
    "    print(classification_report(y_test, adaboost_pred_test, labels=[0,1]))\n",
    "\n",
    "# average ROC curve paramters\n",
    "adaboost_fpr = adaboost_fpr/k\n",
    "adaboost_tpr = adaboost_tpr/k\n",
    "adaboost_thresh = adaboost_thresh/k\n",
    "adaboost_auc = adaboost_auc/k"
   ]
  },
  {
   "cell_type": "markdown",
   "id": "beeb368d-c25a-49e2-a3f7-61bb1bccf88b",
   "metadata": {},
   "source": [
    "## **Overtraining**"
   ]
  },
  {
   "cell_type": "code",
   "execution_count": null,
   "id": "b2050357-5883-4ead-913c-978f218091f9",
   "metadata": {},
   "outputs": [],
   "source": [
    "fig, ax = plt.subplots(figsize=(7, 3), dpi=200, facecolor='w', edgecolor='k')\n",
    "ax.plot(range(1, k+1), adaboost_accuracies_train, '-bo', range(1, k+1), adaboost_accuracies_test, '-ro')\n",
    "plt.xticks(range(1, k+1))\n",
    "fig.suptitle('AdaBoost Accuracy', fontsize=18, y=0.99)\n",
    "ax.legend(['Train Set', 'Test Set'], loc=2, prop={'size': 10})\n",
    "plt.savefig('plots/adaboost/accuracy.png', dpi=200, bbox_inches='tight')\n",
    "plt.show()\n",
    "\n",
    "# print average values\n",
    "print(\"Average Train Set Accuracy: \" + str(sum(adaboost_accuracies_train)/len(adaboost_accuracies_train)))\n",
    "print(\"Average Test Set Accuracy: \" + str(sum(adaboost_accuracies_test)/len(adaboost_accuracies_test)))"
   ]
  },
  {
   "cell_type": "code",
   "execution_count": null,
   "id": "7df00f26-9065-4fd3-8f3c-c1389c1e738f",
   "metadata": {},
   "outputs": [],
   "source": [
    "fig, ax = plt.subplots(figsize=(7, 3), dpi=200, facecolor='w', edgecolor='k')\n",
    "ax.plot(range(1, k+1), adaboost_f1_train, '-bo', range(1, k+1), adaboost_f1_test, '-ro')\n",
    "plt.xticks(range(1, k+1))\n",
    "fig.suptitle('AdaBoost F1 Score', fontsize=18, y=0.99)\n",
    "ax.legend(['Train Set', 'Test Set'], loc=2, prop={'size': 10})\n",
    "plt.savefig('plots/adaboost/f1.png', dpi=200, bbox_inches='tight')\n",
    "plt.show()\n",
    "\n",
    "# print average values\n",
    "print(\"Average Train Set F1 Score: \" + str(sum(adaboost_f1_train)/len(adaboost_f1_train)))\n",
    "print(\"Average Test Set F1 Score: \" + str(sum(adaboost_f1_test)/len(adaboost_f1_test)))"
   ]
  },
  {
   "cell_type": "code",
   "execution_count": null,
   "id": "0ff6973b-c92b-4270-83ec-09ba7a08cf0c",
   "metadata": {},
   "outputs": [],
   "source": [
    "fig, ax = plt.subplots(figsize=(7, 3), dpi=200, facecolor='w', edgecolor='k')\n",
    "ax.plot(range(1, k+1), adaboost_precision_train, '-bo', range(1, k+1), adaboost_precision_test, '-ro')\n",
    "plt.xticks(range(1, k+1))\n",
    "fig.suptitle('AdaBoost Precision Score', fontsize=18, y=0.99)\n",
    "ax.legend(['Train Set', 'Test Set'], loc=2, prop={'size': 10})\n",
    "plt.savefig('plots/adaboost/precision.png', dpi=200, bbox_inches='tight')\n",
    "plt.show()\n",
    "\n",
    "# print average values\n",
    "print(\"Average Train Set Precision Score: \" + str(sum(adaboost_precision_train)/len(adaboost_precision_train)))\n",
    "print(\"Average Test Set Precision Score: \" + str(sum(adaboost_precision_test)/len(adaboost_precision_test)))"
   ]
  },
  {
   "cell_type": "code",
   "execution_count": null,
   "id": "8e4f1d12-f606-4676-b9cf-a7480fc690e9",
   "metadata": {},
   "outputs": [],
   "source": [
    "fig, ax = plt.subplots(figsize=(7, 3), dpi=200, facecolor='w', edgecolor='k')\n",
    "ax.plot(range(1, k+1), adaboost_recall_train, '-bo', range(1, k+1), adaboost_recall_test, '-ro')\n",
    "plt.xticks(range(1, k+1))\n",
    "fig.suptitle('AdaBoost Recall Score', fontsize=18, y=0.99)\n",
    "ax.legend(['Train Set', 'Test Set'], loc=2, prop={'size': 10})\n",
    "plt.savefig('plots/adaboost/recall.png', dpi=200, bbox_inches='tight')\n",
    "plt.show()\n",
    "\n",
    "# print average values\n",
    "print(\"Average Train Set Recall Score: \" + str(sum(adaboost_recall_train)/len(adaboost_recall_train)))\n",
    "print(\"Average Test Set Recall Score: \" + str(sum(adaboost_recall_test)/len(adaboost_recall_test)))"
   ]
  },
  {
   "cell_type": "markdown",
   "id": "9103fd67-b81b-411c-a688-8cce58f00c84",
   "metadata": {},
   "source": [
    "## **Confusion Matrix**"
   ]
  },
  {
   "cell_type": "code",
   "execution_count": null,
   "id": "2c31dd53-4c8a-46e0-ac3c-e119cc428eeb",
   "metadata": {},
   "outputs": [],
   "source": [
    "# Plot average normalized confusion matrix\n",
    "mean_of_conf_matrix_list = np.mean(adaboost_conf_matrix_list, axis=0)\n",
    "plt.figure(figsize=(5, 5), dpi=200, facecolor='w', edgecolor='k')\n",
    "generate_confusion_matrix(mean_of_conf_matrix_list, classes=['NON-HOSPITALIZED', 'HOSPITALIZED'], normalize=True, title='Normalized confusion matrix')\n",
    "plt.savefig('plots/adaboost/confusion_matrix.png', dpi=200, bbox_inches='tight')\n",
    "plt.show()"
   ]
  }
 ],
 "metadata": {
  "kernelspec": {
   "display_name": "Python 3 (ipykernel)",
   "language": "python",
   "name": "python3"
  },
  "language_info": {
   "codemirror_mode": {
    "name": "ipython",
    "version": 3
   },
   "file_extension": ".py",
   "mimetype": "text/x-python",
   "name": "python",
   "nbconvert_exporter": "python",
   "pygments_lexer": "ipython3",
   "version": "3.8.10"
  }
 },
 "nbformat": 4,
 "nbformat_minor": 5
}
